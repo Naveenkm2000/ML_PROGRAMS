{
  "nbformat": 4,
  "nbformat_minor": 0,
  "metadata": {
    "colab": {
      "name": "Untitled14.ipynb",
      "provenance": [],
      "authorship_tag": "ABX9TyPzQewHLA9lmoi6XepBiEw/",
      "include_colab_link": true
    },
    "kernelspec": {
      "name": "python3",
      "display_name": "Python 3"
    },
    "language_info": {
      "name": "python"
    }
  },
  "cells": [
    {
      "cell_type": "markdown",
      "metadata": {
        "id": "view-in-github",
        "colab_type": "text"
      },
      "source": [
        "<a href=\"https://colab.research.google.com/github/Naveenkm2000/ML_PROGRAMS/blob/main/Untitled14.ipynb\" target=\"_parent\"><img src=\"https://colab.research.google.com/assets/colab-badge.svg\" alt=\"Open In Colab\"/></a>"
      ]
    },
    {
      "cell_type": "code",
      "metadata": {
        "colab": {
          "base_uri": "https://localhost:8080/",
          "height": 668
        },
        "id": "Aygj7wnsI_LD",
        "outputId": "0a5210a7-4253-4e46-c8fc-f994abf33f4d"
      },
      "source": [
        " from keras.datasets import mnist\n",
        "from matplotlib import pyplot\n",
        "import numpy as np\n",
        "(trainX, trainY), (testX, testY) = mnist.load_data()\n",
        "trainX = trainX.astype(\"float32\")\n",
        "testX = testX.astype(\"float32\")\n",
        "trainX = trainX/255.0\n",
        "testX = testX/255.0\n",
        " trainX = trainX.reshape(trainX.shape[0],28,28,1)\n",
        "testX = testX.reshape(testX.shape[0],28,28,1)\n",
        " from tensorflow.keras.utils import to_categorical\n",
        "trainY = to_categorical(trainY)\n",
        "testY = to_categorical(testY)\n",
        " from keras.models import Sequential\n",
        "from keras.layers import Conv2D\n",
        "from keras.layers import MaxPooling2D\n",
        "from keras.layers import Dense\n",
        "from keras.layers import Flatten\n",
        "from tensorflow.keras.optimizers import SGD\n",
        "\n",
        "model = Sequential()\n",
        "model.add(Conv2D(16, (2, 2), activation='relu', input_shape=(28, 28, 1)))\n",
        "model.add(MaxPooling2D((2, 2)))\n",
        "model.add(Conv2D(32, (2, 2), activation='relu'))\n",
        "model.add(MaxPooling2D((2, 2)))\n",
        "model.add(Conv2D(64, (2, 2), activation='relu'))\n",
        "model.add(MaxPooling2D((2, 2)))\n",
        "model.add(Flatten())\n",
        "model.add(Dense(100, activation='relu'))\n",
        "model.add(Dense(10, activation='softmax'))\n",
        " opt = SGD(lr=0.01, momentum=0.9)\n",
        "model.compile(optimizer=opt, loss='categorical_crossentropy', metrics=['accuracy'])\n",
        " model.fit(trainX, trainY ,batch_size=100 ,epochs = 10 ,verbose=1,validation_data=(testX, testY))\n",
        " result = model.evaluate(testX, testY, batch_size=100)\n",
        " import random\n",
        "pixels = testX[random.randint(0,len(testX)-1)]\n",
        "pixels = np.expand_dims(pixels, axis=0)\n",
        "pyplot.imshow(pixels.reshape(28,28))\n",
        "prediction = model.predict(pixels)\n",
        "index = np.argmax(prediction[0])\n",
        "print(\"predicted value is \"+str(index))"
      ],
      "execution_count": 10,
      "outputs": [
        {
          "output_type": "stream",
          "name": "stderr",
          "text": [
            "/usr/local/lib/python3.7/dist-packages/keras/optimizer_v2/optimizer_v2.py:356: UserWarning: The `lr` argument is deprecated, use `learning_rate` instead.\n",
            "  \"The `lr` argument is deprecated, use `learning_rate` instead.\")\n"
          ]
        },
        {
          "output_type": "stream",
          "name": "stdout",
          "text": [
            "Epoch 1/10\n",
            "600/600 [==============================] - 19s 31ms/step - loss: 0.6363 - accuracy: 0.7923 - val_loss: 0.1330 - val_accuracy: 0.9598\n",
            "Epoch 2/10\n",
            "600/600 [==============================] - 18s 31ms/step - loss: 0.1214 - accuracy: 0.9618 - val_loss: 0.0914 - val_accuracy: 0.9713\n",
            "Epoch 3/10\n",
            "600/600 [==============================] - 18s 31ms/step - loss: 0.0886 - accuracy: 0.9719 - val_loss: 0.0698 - val_accuracy: 0.9779\n",
            "Epoch 4/10\n",
            "600/600 [==============================] - 18s 31ms/step - loss: 0.0735 - accuracy: 0.9768 - val_loss: 0.0770 - val_accuracy: 0.9772\n",
            "Epoch 5/10\n",
            "600/600 [==============================] - 18s 31ms/step - loss: 0.0619 - accuracy: 0.9803 - val_loss: 0.0636 - val_accuracy: 0.9799\n",
            "Epoch 6/10\n",
            "600/600 [==============================] - 18s 31ms/step - loss: 0.0546 - accuracy: 0.9832 - val_loss: 0.0485 - val_accuracy: 0.9846\n",
            "Epoch 7/10\n",
            "600/600 [==============================] - 18s 31ms/step - loss: 0.0492 - accuracy: 0.9848 - val_loss: 0.0561 - val_accuracy: 0.9835\n",
            "Epoch 8/10\n",
            "600/600 [==============================] - 18s 31ms/step - loss: 0.0417 - accuracy: 0.9868 - val_loss: 0.0479 - val_accuracy: 0.9849\n",
            "Epoch 9/10\n",
            "600/600 [==============================] - 18s 31ms/step - loss: 0.0398 - accuracy: 0.9870 - val_loss: 0.0577 - val_accuracy: 0.9830\n",
            "Epoch 10/10\n",
            "600/600 [==============================] - 18s 31ms/step - loss: 0.0349 - accuracy: 0.9894 - val_loss: 0.0521 - val_accuracy: 0.9857\n",
            "100/100 [==============================] - 1s 10ms/step - loss: 0.0521 - accuracy: 0.9857\n",
            "predicted value is 1\n"
          ]
        },
        {
          "output_type": "display_data",
          "data": {
            "image/png": "[encoded data removed]",
            "text/plain": [
              "<Figure size 432x288 with 1 Axes>"
            ]
          },
          "metadata": {
            "needs_background": "light"
          }
        }
      ]
    }
  ]
}